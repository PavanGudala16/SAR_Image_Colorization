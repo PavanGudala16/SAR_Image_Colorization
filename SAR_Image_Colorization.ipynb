{
 "cells": [
  {
   "cell_type": "code",
   "execution_count": 11,
   "id": "0da5d989-1a8c-458b-a9e4-f6e636dc891e",
   "metadata": {},
   "outputs": [],
   "source": [
    "import cv2\n",
    "import numpy as np\n",
    "import os\n",
    "from sklearn.neighbors import KNeighborsClassifier"
   ]
  },
  {
   "cell_type": "code",
   "execution_count": 35,
   "id": "cafadd41-e434-4930-9916-9d249048ef47",
   "metadata": {},
   "outputs": [],
   "source": [
    "# Gray Scale images are collected from the Bhoonidhi Website liscened by ISRO.\n",
    "def load_images_from_folder(folder):\n",
    "    images = []\n",
    "    for filename in os.listdir(folder):\n",
    "        filepath = os.path.join(folder, filename)\n",
    "        img = cv2.imread(filepath, cv2.IMREAD_GRAYSCALE)\n",
    "        if img is not None:\n",
    "            img = cv2.resize(img, (256, 256))  # Resize for consistency\n",
    "            images.append(img)\n",
    "    return images"
   ]
  },
  {
   "cell_type": "code",
   "execution_count": 43,
   "id": "b3eae9a4-edd2-4813-8e4d-2f077da05135",
   "metadata": {},
   "outputs": [],
   "source": [
    "# Reference Color Image was collected from the Bhoonidhi website liscened by ISRO.\n",
    "def load_color_reference_images(folder):\n",
    "    color_images = []\n",
    "    for filename in os.listdir(folder):\n",
    "        filepath = os.path.join(folder, filename)\n",
    "        img = cv2.imread(filepath)\n",
    "        if img is not None:\n",
    "            img = cv2.resize(img, (256, 256))  # Resize for consistency\n",
    "            color_images.append(img)\n",
    "    return color_images"
   ]
  },
  {
   "cell_type": "code",
   "execution_count": 34,
   "id": "a8ab2400-b67c-4c51-90a9-1c181298a63e",
   "metadata": {},
   "outputs": [],
   "source": [
    "def colorize_image_knn(grayscale_image, color_reference_images, k=5):\n",
    "    height, width = grayscale_image.shape\n",
    "    knn = KNeighborsClassifier(n_neighbors=k)\n",
    "\n",
    "    # Prepare training data from color reference images\n",
    "    training_data = []\n",
    "    labels = []\n",
    "    \n",
    "    for color_image in color_reference_images:\n",
    "        lab_image = cv2.cvtColor(color_image, cv2.COLOR_BGR2LAB)\n",
    "        L, A, B = cv2.split(lab_image)\n",
    "        \n",
    "        # Reshape to 1D arrays and store L, A, B values\n",
    "        for i in range(height):\n",
    "            for j in range(width):\n",
    "                training_data.append([L[i, j]])  # Use L-channel as the input\n",
    "                labels.append([A[i, j], B[i, j]])  # A and B channels as target labels\n",
    "\n",
    "    training_data = np.array(training_data)\n",
    "    labels = np.array(labels)\n",
    "\n",
    "    # Train the KNN model\n",
    "    knn.fit(training_data, labels)\n",
    "\n",
    "    # Predict the A and B channels for the grayscale image\n",
    "    L_channel = grayscale_image.flatten().reshape(-1, 1)\n",
    "    predicted_ab = knn.predict(L_channel)\n",
    "\n",
    "    # Reconstruct the colorized LAB image\n",
    "    A_channel = predicted_ab[:, 0].reshape(height, width)\n",
    "    B_channel = predicted_ab[:, 1].reshape(height, width)\n",
    "    colorized_lab = cv2.merge([grayscale_image, A_channel, B_channel])\n",
    "\n",
    "    # Convert LAB back to RGB\n",
    "    colorized_rgb = cv2.cvtColor(colorized_lab, cv2.COLOR_LAB2BGR)\n",
    "    return colorized_rgb"
   ]
  },
  {
   "cell_type": "code",
   "execution_count": 33,
   "id": "c4011948-2646-4180-9fc6-4f38e2a000b8",
   "metadata": {},
   "outputs": [],
   "source": [
    "def process_and_colorize_images(input_folder, reference_folder, output_folder):\n",
    "    if not os.path.exists(output_folder):\n",
    "        os.makedirs(output_folder)\n",
    "\n",
    "    # Load grayscale images and color reference images\n",
    "    grayscale_images = load_images_from_folder(input_folder)\n",
    "    color_reference_images = load_color_reference_images(reference_folder)\n",
    "\n",
    "    for i, grayscale_image in enumerate(grayscale_images):\n",
    "        # Colorize using KNN\n",
    "        colorized_image = colorize_image_knn(grayscale_image, color_reference_images, k=5)\n",
    "        \n",
    "        # Save the colorized image\n",
    "        output_filename = os.path.join(output_folder, f'colorized_image_{i}.jpg')\n",
    "        cv2.imwrite(output_filename, colorized_image)\n",
    "        print(f\"Colorized image saved: {output_filename}\")\n"
   ]
  },
  {
   "cell_type": "code",
   "execution_count": 32,
   "id": "1c89ab56-d6d1-44a0-8344-5dbce7fd2aaf",
   "metadata": {},
   "outputs": [],
   "source": [
    "input_folder = r'D:\\PAVAN\\SAR_Image_Colorization_Pairs\\SAR_Image_Colorization_Pairs\\black_white'\n",
    "reference_folder = r'D:\\PAVAN\\SAR_Image_Colorization_Pairs\\SAR_Image_Colorization_Pairs\\color'\n",
    "output_folder = r'D:\\PAVAN\\SAR_Image_Colorization_Pairs\\SAR_Image_Colorization_Pairs\\colorized_output'\n"
   ]
  },
  {
   "cell_type": "code",
   "execution_count": 29,
   "id": "30648a58-60f7-4f90-a4b4-85ff9dff2ac9",
   "metadata": {},
   "outputs": [
    {
     "name": "stdout",
     "output_type": "stream",
     "text": [
      "Colorized image saved: D:\\PAVAN\\SAR_Image_Colorization_Pairs\\SAR_Image_Colorization_Pairs\\colorized_output\\colorized_image_0.jpg\n",
      "Colorized image saved: D:\\PAVAN\\SAR_Image_Colorization_Pairs\\SAR_Image_Colorization_Pairs\\colorized_output\\colorized_image_1.jpg\n",
      "Colorized image saved: D:\\PAVAN\\SAR_Image_Colorization_Pairs\\SAR_Image_Colorization_Pairs\\colorized_output\\colorized_image_2.jpg\n",
      "Colorized image saved: D:\\PAVAN\\SAR_Image_Colorization_Pairs\\SAR_Image_Colorization_Pairs\\colorized_output\\colorized_image_3.jpg\n",
      "Colorized image saved: D:\\PAVAN\\SAR_Image_Colorization_Pairs\\SAR_Image_Colorization_Pairs\\colorized_output\\colorized_image_4.jpg\n",
      "Colorized image saved: D:\\PAVAN\\SAR_Image_Colorization_Pairs\\SAR_Image_Colorization_Pairs\\colorized_output\\colorized_image_5.jpg\n",
      "Colorized image saved: D:\\PAVAN\\SAR_Image_Colorization_Pairs\\SAR_Image_Colorization_Pairs\\colorized_output\\colorized_image_6.jpg\n",
      "Colorized image saved: D:\\PAVAN\\SAR_Image_Colorization_Pairs\\SAR_Image_Colorization_Pairs\\colorized_output\\colorized_image_7.jpg\n",
      "Colorized image saved: D:\\PAVAN\\SAR_Image_Colorization_Pairs\\SAR_Image_Colorization_Pairs\\colorized_output\\colorized_image_8.jpg\n",
      "Colorized image saved: D:\\PAVAN\\SAR_Image_Colorization_Pairs\\SAR_Image_Colorization_Pairs\\colorized_output\\colorized_image_9.jpg\n",
      "Colorized image saved: D:\\PAVAN\\SAR_Image_Colorization_Pairs\\SAR_Image_Colorization_Pairs\\colorized_output\\colorized_image_10.jpg\n",
      "Colorized image saved: D:\\PAVAN\\SAR_Image_Colorization_Pairs\\SAR_Image_Colorization_Pairs\\colorized_output\\colorized_image_11.jpg\n",
      "Colorized image saved: D:\\PAVAN\\SAR_Image_Colorization_Pairs\\SAR_Image_Colorization_Pairs\\colorized_output\\colorized_image_12.jpg\n",
      "Colorized image saved: D:\\PAVAN\\SAR_Image_Colorization_Pairs\\SAR_Image_Colorization_Pairs\\colorized_output\\colorized_image_13.jpg\n",
      "Colorized image saved: D:\\PAVAN\\SAR_Image_Colorization_Pairs\\SAR_Image_Colorization_Pairs\\colorized_output\\colorized_image_14.jpg\n",
      "Colorized image saved: D:\\PAVAN\\SAR_Image_Colorization_Pairs\\SAR_Image_Colorization_Pairs\\colorized_output\\colorized_image_15.jpg\n",
      "Colorized image saved: D:\\PAVAN\\SAR_Image_Colorization_Pairs\\SAR_Image_Colorization_Pairs\\colorized_output\\colorized_image_16.jpg\n",
      "Colorized image saved: D:\\PAVAN\\SAR_Image_Colorization_Pairs\\SAR_Image_Colorization_Pairs\\colorized_output\\colorized_image_17.jpg\n",
      "Colorized image saved: D:\\PAVAN\\SAR_Image_Colorization_Pairs\\SAR_Image_Colorization_Pairs\\colorized_output\\colorized_image_18.jpg\n",
      "Colorized image saved: D:\\PAVAN\\SAR_Image_Colorization_Pairs\\SAR_Image_Colorization_Pairs\\colorized_output\\colorized_image_19.jpg\n",
      "Colorized image saved: D:\\PAVAN\\SAR_Image_Colorization_Pairs\\SAR_Image_Colorization_Pairs\\colorized_output\\colorized_image_20.jpg\n",
      "Colorized image saved: D:\\PAVAN\\SAR_Image_Colorization_Pairs\\SAR_Image_Colorization_Pairs\\colorized_output\\colorized_image_21.jpg\n",
      "Colorized image saved: D:\\PAVAN\\SAR_Image_Colorization_Pairs\\SAR_Image_Colorization_Pairs\\colorized_output\\colorized_image_22.jpg\n",
      "Colorized image saved: D:\\PAVAN\\SAR_Image_Colorization_Pairs\\SAR_Image_Colorization_Pairs\\colorized_output\\colorized_image_23.jpg\n",
      "Colorized image saved: D:\\PAVAN\\SAR_Image_Colorization_Pairs\\SAR_Image_Colorization_Pairs\\colorized_output\\colorized_image_24.jpg\n"
     ]
    }
   ],
   "source": [
    "process_and_colorize_images(input_folder, reference_folder, output_folder)"
   ]
  },
  {
   "cell_type": "code",
   "execution_count": 36,
   "id": "f6b986f6-f075-4e93-ab8a-8e903526b1f9",
   "metadata": {},
   "outputs": [],
   "source": [
    "from skimage.metrics import structural_similarity as ssim\n",
    "from sklearn.metrics import mean_squared_error"
   ]
  },
  {
   "cell_type": "code",
   "execution_count": 37,
   "id": "a3034eea-8a11-476b-b878-6486c80bf90b",
   "metadata": {},
   "outputs": [],
   "source": [
    "def load_images_from_folder(folder, color=True):\n",
    "    images = []\n",
    "    for filename in sorted(os.listdir(folder)):  # Ensure sorted order\n",
    "        filepath = os.path.join(folder, filename)\n",
    "        if color:\n",
    "            img = cv2.imread(filepath)  # Color image for ground truth\n",
    "        else:\n",
    "            img = cv2.imread(filepath, cv2.IMREAD_GRAYSCALE)  # Grayscale image for input\n",
    "        if img is not None:\n",
    "            img = cv2.resize(img, (256, 256))  # Resize for consistency\n",
    "            images.append(img)\n",
    "    return images"
   ]
  },
  {
   "cell_type": "code",
   "execution_count": 38,
   "id": "268b1e61-03d2-4e57-9688-d7766ff41bdb",
   "metadata": {},
   "outputs": [],
   "source": [
    "def evaluate_colorization_batch(colorized_folder, ground_truth_folder):\n",
    "    colorized_images = load_images_from_folder(colorized_folder, color=True)\n",
    "    ground_truth_images = load_images_from_folder(ground_truth_folder, color=True)\n",
    "\n",
    "    mse_a_total, mse_b_total, ssim_a_total, ssim_b_total = 0, 0, 0, 0\n",
    "    count = len(colorized_images)\n",
    "\n",
    "    for colorized_img, ground_truth_img in zip(colorized_images, ground_truth_images):\n",
    "        # Convert both images to LAB color space\n",
    "        colorized_lab = cv2.cvtColor(colorized_img, cv2.COLOR_BGR2LAB)\n",
    "        ground_truth_lab = cv2.cvtColor(ground_truth_img, cv2.COLOR_BGR2LAB)\n",
    "\n",
    "        # Split LAB channels\n",
    "        _, A_c, B_c = cv2.split(colorized_lab)\n",
    "        _, A_g, B_g = cv2.split(ground_truth_lab)\n",
    "\n",
    "        # Calculate MSE for A and B channels\n",
    "        mse_a = mean_squared_error(A_c, A_g)\n",
    "        mse_b = mean_squared_error(B_c, B_g)\n",
    "        \n",
    "        # Calculate SSIM for A and B channels\n",
    "        ssim_a = ssim(A_c, A_g)\n",
    "        ssim_b = ssim(B_c, B_g)\n",
    "\n",
    "        # Accumulate scores\n",
    "        mse_a_total += mse_a\n",
    "        mse_b_total += mse_b\n",
    "        ssim_a_total += ssim_a\n",
    "        ssim_b_total += ssim_b\n",
    "\n",
    "    # Calculate average MSE and SSIM for all images\n",
    "    avg_mse_a = mse_a_total / count\n",
    "    avg_mse_b = mse_b_total / count\n",
    "    avg_ssim_a = ssim_a_total / count\n",
    "    avg_ssim_b = ssim_b_total / count\n",
    "\n",
    "    return {\n",
    "        \"Average MSE A-channel\": avg_mse_a,\n",
    "        \"Average MSE B-channel\": avg_mse_b,\n",
    "        \"Average SSIM A-channel\": avg_ssim_a,\n",
    "        \"Average SSIM B-channel\": avg_ssim_b\n",
    "    }\n"
   ]
  },
  {
   "cell_type": "code",
   "execution_count": 40,
   "id": "6946de43-e77d-4205-842f-a2434d8d7f54",
   "metadata": {},
   "outputs": [],
   "source": [
    "colorized_folder = r\"D:\\PAVAN\\SAR_Image_Colorization_Pairs\\SAR_Image_Colorization_Pairs\\colorized_output\"\n",
    "ground_truth_folder = r\"D:\\PAVAN\\SAR_Image_Colorization_Pairs\\SAR_Image_Colorization_Pairs\\black_white\""
   ]
  },
  {
   "cell_type": "code",
   "execution_count": 41,
   "id": "5c7147e6-9520-4bf8-be34-e093dd1d9fe1",
   "metadata": {},
   "outputs": [
    {
     "name": "stdout",
     "output_type": "stream",
     "text": [
      "Batch Evaluation Results: {'Average MSE A-channel': 61.03204895019531, 'Average MSE B-channel': 110.64799133300781, 'Average SSIM A-channel': 0.6938501129004656, 'Average SSIM B-channel': 0.8317735929691795}\n"
     ]
    }
   ],
   "source": [
    "results = evaluate_colorization_batch(colorized_folder, ground_truth_folder)\n",
    "print(\"Batch Evaluation Results:\", results)"
   ]
  }
 ],
 "metadata": {
  "kernelspec": {
   "display_name": "Python 3 (ipykernel)",
   "language": "python",
   "name": "python3"
  },
  "language_info": {
   "codemirror_mode": {
    "name": "ipython",
    "version": 3
   },
   "file_extension": ".py",
   "mimetype": "text/x-python",
   "name": "python",
   "nbconvert_exporter": "python",
   "pygments_lexer": "ipython3",
   "version": "3.12.5"
  }
 },
 "nbformat": 4,
 "nbformat_minor": 5
}
